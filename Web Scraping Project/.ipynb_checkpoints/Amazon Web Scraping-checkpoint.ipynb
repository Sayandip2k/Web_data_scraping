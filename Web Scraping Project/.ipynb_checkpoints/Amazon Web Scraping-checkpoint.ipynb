{
 "cells": [
  {
   "cell_type": "code",
   "execution_count": 54,
   "id": "c8b591d7-4e91-4633-a0f8-3d5c91132985",
   "metadata": {},
   "outputs": [],
   "source": [
    "from bs4 import BeautifulSoup\n",
    "import requests\n",
    "import time\n",
    "import datetime\n",
    "\n",
    "import smtplib"
   ]
  },
  {
   "cell_type": "code",
   "execution_count": 56,
   "id": "8bd50b6b-4026-43f1-8dfe-dfff010dc626",
   "metadata": {},
   "outputs": [],
   "source": [
    "#connect to website\n",
    "\n",
    "URL = 'https://www.amazon.in/iPhone-16-Pro-Max-256/dp/B0DGJJM5HZ/ref=sr_1_1_sspa?crid=3UTKI9AZ7BJOI&dib=eyJ2IjoiMSJ9.CJe8fSYvhBZ8cav7vNkkwm3Xj1J3MDpG7WlVUVb4L7ZEzzX5Un--CGPcSusupVka9EPsAXYJdWjlfH_0l6BJffS-4t_hFGZWmEP9awWVj1yapZh3O3SrpiGMHpDbBMQoyfpy8kZHn-3GEvwpzxR9KWY3Awigxz1DI8oLQmsYhAo-xuSXL49khCmdGFHBGEjWirz8OnvdxpWiydWczitz9BKurP97xcdOxfw23lKnK8o.8599yPsNxAV6Q6JRAlGorCJ3PzwZ5AnqBFSzVOTTqLs&dib_tag=se&keywords=iphone%2B16%2Bpro%2Bmax&qid=1754807980&sprefix=iphone%2B16%2Bpro%2Bm%2Caps%2C224&sr=8-1-spons&sp_csd=d2lkZ2V0TmFtZT1zcF9hdGY&th=1'\n",
    "\n",
    "headers = {\"User-Agent\": \"Mozilla/5.0 (Macintosh; Intel Mac OS X 10_15_7) AppleWebKit/537.36 (KHTML, like Gecko) Chrome/138.0.0.0 Safari/537.36\"}\n",
    "\n",
    "page = requests.get(URL,headers=headers)"
   ]
  },
  {
   "cell_type": "code",
   "execution_count": 57,
   "id": "810c03fd-25d4-4e59-9a1c-4424126153b4",
   "metadata": {},
   "outputs": [],
   "source": [
    "soup1= BeautifulSoup(page.content , \"html.parser\")\n",
    "soup2 = BeautifulSoup(soup1.prettify(), \"html.parser\")\n"
   ]
  },
  {
   "cell_type": "code",
   "execution_count": 58,
   "id": "179283b9-a76b-4c30-9067-626478cc3869",
   "metadata": {},
   "outputs": [
    {
     "name": "stdout",
     "output_type": "stream",
     "text": [
      "\n",
      "          iPhone 16 Pro Max 256 GB: 5G Mobile Phone with Camera Control, 4K 120 fps Dolby Vision and a Huge Leap in Battery Life. Works with AirPods; Black Titanium\n",
      "         \n"
     ]
    }
   ],
   "source": [
    "title = soup2.find(id='productTitle').get_text()   #pulling the title of the item from amazon\n",
    "print(title)"
   ]
  },
  {
   "cell_type": "code",
   "execution_count": 59,
   "id": "9f579e75-343a-4f45-acee-5b6dc0d6e026",
   "metadata": {},
   "outputs": [
    {
     "name": "stdout",
     "output_type": "stream",
     "text": [
      "\n",
      "                               1,34,900\n",
      "                               \n",
      "                                .\n",
      "                               \n",
      "\n"
     ]
    }
   ],
   "source": [
    "price = soup2.find(class_='a-price-whole').get_text()\n",
    "print(price)"
   ]
  },
  {
   "cell_type": "code",
   "execution_count": 60,
   "id": "61e975df-ffc2-4058-abd8-4055c2ee36c1",
   "metadata": {},
   "outputs": [
    {
     "name": "stdout",
     "output_type": "stream",
     "text": [
      "1,34,900\n",
      "iPhone 16 Pro Max 256 GB: 5G Mobile Phone with Camera Control, 4K 120 fps Dolby Vision and a Huge Leap in Battery Life. Works with AirPods; Black Titanium\n"
     ]
    }
   ],
   "source": [
    "price = price.strip()[0:8]\n",
    "title = title.strip()\n",
    "print(price)\n",
    "print(title)"
   ]
  },
  {
   "cell_type": "code",
   "execution_count": 61,
   "id": "bfd8b289-f73c-47be-8a49-0c58bf08c925",
   "metadata": {},
   "outputs": [
    {
     "name": "stdout",
     "output_type": "stream",
     "text": [
      "2025-08-11\n"
     ]
    }
   ],
   "source": [
    "import datetime\n",
    "today = datetime.date.today()\n",
    "print(today)"
   ]
  },
  {
   "cell_type": "code",
   "execution_count": 62,
   "id": "e679ce29-97f4-4ae4-9657-7c3e0d8bb59a",
   "metadata": {},
   "outputs": [],
   "source": [
    "import csv"
   ]
  },
  {
   "cell_type": "code",
   "execution_count": 63,
   "id": "e9ecdeca-6f67-4b28-9b3b-30e3693606dd",
   "metadata": {},
   "outputs": [],
   "source": [
    "header = ['Title' , 'Price', 'Date']\n",
    "data = [title , price , today]\n",
    "\n",
    "with open('AmazonWebScraperDataset.csv', 'w', newline = '' , encoding = 'UTF8') as f:\n",
    "  writer = csv.writer(f)\n",
    "  writer.writerow(header)\n",
    "  writer.writerow(data)\n",
    "\n"
   ]
  },
  {
   "cell_type": "code",
   "execution_count": 64,
   "id": "9aa8f65c-b9ce-47ed-9db0-929d29dfc6ab",
   "metadata": {},
   "outputs": [
    {
     "data": {
      "text/html": [
       "<div>\n",
       "<style scoped>\n",
       "    .dataframe tbody tr th:only-of-type {\n",
       "        vertical-align: middle;\n",
       "    }\n",
       "\n",
       "    .dataframe tbody tr th {\n",
       "        vertical-align: top;\n",
       "    }\n",
       "\n",
       "    .dataframe thead th {\n",
       "        text-align: right;\n",
       "    }\n",
       "</style>\n",
       "<table border=\"1\" class=\"dataframe\">\n",
       "  <thead>\n",
       "    <tr style=\"text-align: right;\">\n",
       "      <th></th>\n",
       "      <th>Title</th>\n",
       "      <th>Price</th>\n",
       "      <th>Date</th>\n",
       "    </tr>\n",
       "  </thead>\n",
       "  <tbody>\n",
       "    <tr>\n",
       "      <th>0</th>\n",
       "      <td>iPhone 16 Pro Max 256 GB: 5G Mobile Phone with...</td>\n",
       "      <td>1,34,900</td>\n",
       "      <td>2025-08-11</td>\n",
       "    </tr>\n",
       "  </tbody>\n",
       "</table>\n",
       "</div>"
      ],
      "text/plain": [
       "                                               Title     Price        Date\n",
       "0  iPhone 16 Pro Max 256 GB: 5G Mobile Phone with...  1,34,900  2025-08-11"
      ]
     },
     "execution_count": 64,
     "metadata": {},
     "output_type": "execute_result"
    }
   ],
   "source": [
    "import pandas as pd\n",
    "df = pd.read_csv('/Users/roonmac/AmazonWebScraperDataset.csv')\n",
    "df"
   ]
  },
  {
   "cell_type": "code",
   "execution_count": 65,
   "id": "c20cdd1c-e55d-456b-b0bc-da55dd3dcc1e",
   "metadata": {},
   "outputs": [],
   "source": [
    "with open('AmazonWebScraperDataset.csv', 'a+', newline = '' , encoding = 'UTF8') as f:\n",
    "  writer = csv.writer(f)\n",
    "  writer.writerow(data)\n"
   ]
  },
  {
   "cell_type": "code",
   "execution_count": null,
   "id": "cbe1ff2e-a008-4cb2-9095-4f55a803e3b5",
   "metadata": {},
   "outputs": [],
   "source": [
    "def send_mail():\n",
    "    server = smtplib.SMTP_SSL('smtp.gmail.com' , 465)\n",
    "    server.ehlo()\n",
    "    #server.starttis()\n",
    "    server.ehlo()\n",
    "    server.login('sayandip.sharangi@gmail.com','SayandipSharangiRoon@2000')\n",
    "\n",
    "    subject = 'This iphone is below your price!'\n",
    "    body = 'hey you can buy it now'\n",
    "\n",
    "    msg = f'Subject: {subject}\\n\\n{body}'\n",
    "\n",
    "    server.sendmail(\n",
    "            'sayandip.sharangi@gmail.com',\n",
    "            'sayandip.sharangi@gmail.com',\n",
    "             msg\n",
    "    )"
   ]
  },
  {
   "cell_type": "code",
   "execution_count": 66,
   "id": "be226802-93cd-4271-aad0-7e325e232393",
   "metadata": {},
   "outputs": [],
   "source": [
    "def check_price():\n",
    "    \n",
    "    URL = 'https://www.amazon.in/iPhone-16-Pro-Max-256/dp/B0DGJJM5HZ/ref=sr_1_1_sspa?crid=3UTKI9AZ7BJOI&dib=eyJ2IjoiMSJ9.CJe8fSYvhBZ8cav7vNkkwm3Xj1J3MDpG7WlVUVb4L7ZEzzX5Un--CGPcSusupVka9EPsAXYJdWjlfH_0l6BJffS-4t_hFGZWmEP9awWVj1yapZh3O3SrpiGMHpDbBMQoyfpy8kZHn-3GEvwpzxR9KWY3Awigxz1DI8oLQmsYhAo-xuSXL49khCmdGFHBGEjWirz8OnvdxpWiydWczitz9BKurP97xcdOxfw23lKnK8o.8599yPsNxAV6Q6JRAlGorCJ3PzwZ5AnqBFSzVOTTqLs&dib_tag=se&keywords=iphone%2B16%2Bpro%2Bmax&qid=1754807980&sprefix=iphone%2B16%2Bpro%2Bm%2Caps%2C224&sr=8-1-spons&sp_csd=d2lkZ2V0TmFtZT1zcF9hdGY&th=1'\n",
    "\n",
    "    headers = {\"User-Agent\": \"Mozilla/5.0 (Macintosh; Intel Mac OS X 10_15_7) AppleWebKit/537.36 (KHTML, like Gecko) Chrome/138.0.0.0 Safari/537.36\"}\n",
    "\n",
    "    page = requests.get(URL,headers=headers)\n",
    "\n",
    "    soup1= BeautifulSoup(page.content , \"html.parser\")\n",
    "    soup2 = BeautifulSoup(soup1.prettify(), \"html.parser\")\n",
    "\n",
    "\n",
    "    title = soup2.find(id='productTitle').get_text()   \n",
    "    price = soup2.find(class_='a-price-whole').get_text()    #pulling the title of the item from amazon\n",
    "    \n",
    "    price = price.replace(',', '')  # remove commas\n",
    "    price = int(price)                  \n",
    "\n",
    "    price = price.strip()[0:8]\n",
    "    title = title.strip()\n",
    "\n",
    "    import datetime\n",
    "    today = datetime.date.today()\n",
    "\n",
    "    \n",
    "    import csv  \n",
    "    header = ['Title' , 'Price', 'Date']\n",
    "    data = [title , price , today]\n",
    "\n",
    "\n",
    "    with open('AmazonWebScraperDataset.csv', 'a+', newline = '' , encoding = 'UTF8') as f:\n",
    "      writer = csv.writer(f)\n",
    "      writer.writerow(data)\n",
    "\n",
    "    if(price == 134900):\n",
    "        send_mail()\n",
    "    \n",
    "\n",
    "    "
   ]
  },
  {
   "cell_type": "code",
   "execution_count": 67,
   "id": "822bf696-8c1b-47df-a148-74c9786e6909",
   "metadata": {},
   "outputs": [
    {
     "ename": "KeyboardInterrupt",
     "evalue": "",
     "output_type": "error",
     "traceback": [
      "\u001b[0;31m---------------------------------------------------------------------------\u001b[0m",
      "\u001b[0;31mKeyboardInterrupt\u001b[0m                         Traceback (most recent call last)",
      "Cell \u001b[0;32mIn[67], line 3\u001b[0m\n\u001b[1;32m      1\u001b[0m \u001b[38;5;28;01mwhile\u001b[39;00m(\u001b[38;5;28;01mTrue\u001b[39;00m):\n\u001b[1;32m      2\u001b[0m     check_price()\n\u001b[0;32m----> 3\u001b[0m     time\u001b[38;5;241m.\u001b[39msleep(\u001b[38;5;241m5\u001b[39m)\n",
      "\u001b[0;31mKeyboardInterrupt\u001b[0m: "
     ]
    }
   ],
   "source": [
    "while(True):\n",
    "    check_price()\n",
    "    time.sleep(5)\n",
    "    "
   ]
  },
  {
   "cell_type": "code",
   "execution_count": 68,
   "id": "cf3244fc-d270-4b6d-bb42-eed4dc0cfa81",
   "metadata": {
    "scrolled": true
   },
   "outputs": [
    {
     "data": {
      "text/html": [
       "<div>\n",
       "<style scoped>\n",
       "    .dataframe tbody tr th:only-of-type {\n",
       "        vertical-align: middle;\n",
       "    }\n",
       "\n",
       "    .dataframe tbody tr th {\n",
       "        vertical-align: top;\n",
       "    }\n",
       "\n",
       "    .dataframe thead th {\n",
       "        text-align: right;\n",
       "    }\n",
       "</style>\n",
       "<table border=\"1\" class=\"dataframe\">\n",
       "  <thead>\n",
       "    <tr style=\"text-align: right;\">\n",
       "      <th></th>\n",
       "      <th>Title</th>\n",
       "      <th>Price</th>\n",
       "      <th>Date</th>\n",
       "    </tr>\n",
       "  </thead>\n",
       "  <tbody>\n",
       "    <tr>\n",
       "      <th>0</th>\n",
       "      <td>iPhone 16 Pro Max 256 GB: 5G Mobile Phone with...</td>\n",
       "      <td>1,34,900</td>\n",
       "      <td>2025-08-11</td>\n",
       "    </tr>\n",
       "    <tr>\n",
       "      <th>1</th>\n",
       "      <td>iPhone 16 Pro Max 256 GB: 5G Mobile Phone with...</td>\n",
       "      <td>1,34,900</td>\n",
       "      <td>2025-08-11</td>\n",
       "    </tr>\n",
       "    <tr>\n",
       "      <th>2</th>\n",
       "      <td>iPhone 16 Pro Max 256 GB: 5G Mobile Phone with...</td>\n",
       "      <td>1,34,900</td>\n",
       "      <td>2025-08-11</td>\n",
       "    </tr>\n",
       "    <tr>\n",
       "      <th>3</th>\n",
       "      <td>iPhone 16 Pro Max 256 GB: 5G Mobile Phone with...</td>\n",
       "      <td>1,34,900</td>\n",
       "      <td>2025-08-11</td>\n",
       "    </tr>\n",
       "    <tr>\n",
       "      <th>4</th>\n",
       "      <td>iPhone 16 Pro Max 256 GB: 5G Mobile Phone with...</td>\n",
       "      <td>1,34,900</td>\n",
       "      <td>2025-08-11</td>\n",
       "    </tr>\n",
       "    <tr>\n",
       "      <th>5</th>\n",
       "      <td>iPhone 16 Pro Max 256 GB: 5G Mobile Phone with...</td>\n",
       "      <td>1,34,900</td>\n",
       "      <td>2025-08-11</td>\n",
       "    </tr>\n",
       "    <tr>\n",
       "      <th>6</th>\n",
       "      <td>iPhone 16 Pro Max 256 GB: 5G Mobile Phone with...</td>\n",
       "      <td>1,34,900</td>\n",
       "      <td>2025-08-11</td>\n",
       "    </tr>\n",
       "    <tr>\n",
       "      <th>7</th>\n",
       "      <td>iPhone 16 Pro Max 256 GB: 5G Mobile Phone with...</td>\n",
       "      <td>1,34,900</td>\n",
       "      <td>2025-08-11</td>\n",
       "    </tr>\n",
       "    <tr>\n",
       "      <th>8</th>\n",
       "      <td>iPhone 16 Pro Max 256 GB: 5G Mobile Phone with...</td>\n",
       "      <td>1,34,900</td>\n",
       "      <td>2025-08-11</td>\n",
       "    </tr>\n",
       "    <tr>\n",
       "      <th>9</th>\n",
       "      <td>iPhone 16 Pro Max 256 GB: 5G Mobile Phone with...</td>\n",
       "      <td>1,34,900</td>\n",
       "      <td>2025-08-11</td>\n",
       "    </tr>\n",
       "    <tr>\n",
       "      <th>10</th>\n",
       "      <td>iPhone 16 Pro Max 256 GB: 5G Mobile Phone with...</td>\n",
       "      <td>1,34,900</td>\n",
       "      <td>2025-08-11</td>\n",
       "    </tr>\n",
       "    <tr>\n",
       "      <th>11</th>\n",
       "      <td>iPhone 16 Pro Max 256 GB: 5G Mobile Phone with...</td>\n",
       "      <td>1,34,900</td>\n",
       "      <td>2025-08-11</td>\n",
       "    </tr>\n",
       "    <tr>\n",
       "      <th>12</th>\n",
       "      <td>iPhone 16 Pro Max 256 GB: 5G Mobile Phone with...</td>\n",
       "      <td>1,34,900</td>\n",
       "      <td>2025-08-11</td>\n",
       "    </tr>\n",
       "  </tbody>\n",
       "</table>\n",
       "</div>"
      ],
      "text/plain": [
       "                                                Title     Price        Date\n",
       "0   iPhone 16 Pro Max 256 GB: 5G Mobile Phone with...  1,34,900  2025-08-11\n",
       "1   iPhone 16 Pro Max 256 GB: 5G Mobile Phone with...  1,34,900  2025-08-11\n",
       "2   iPhone 16 Pro Max 256 GB: 5G Mobile Phone with...  1,34,900  2025-08-11\n",
       "3   iPhone 16 Pro Max 256 GB: 5G Mobile Phone with...  1,34,900  2025-08-11\n",
       "4   iPhone 16 Pro Max 256 GB: 5G Mobile Phone with...  1,34,900  2025-08-11\n",
       "5   iPhone 16 Pro Max 256 GB: 5G Mobile Phone with...  1,34,900  2025-08-11\n",
       "6   iPhone 16 Pro Max 256 GB: 5G Mobile Phone with...  1,34,900  2025-08-11\n",
       "7   iPhone 16 Pro Max 256 GB: 5G Mobile Phone with...  1,34,900  2025-08-11\n",
       "8   iPhone 16 Pro Max 256 GB: 5G Mobile Phone with...  1,34,900  2025-08-11\n",
       "9   iPhone 16 Pro Max 256 GB: 5G Mobile Phone with...  1,34,900  2025-08-11\n",
       "10  iPhone 16 Pro Max 256 GB: 5G Mobile Phone with...  1,34,900  2025-08-11\n",
       "11  iPhone 16 Pro Max 256 GB: 5G Mobile Phone with...  1,34,900  2025-08-11\n",
       "12  iPhone 16 Pro Max 256 GB: 5G Mobile Phone with...  1,34,900  2025-08-11"
      ]
     },
     "execution_count": 68,
     "metadata": {},
     "output_type": "execute_result"
    }
   ],
   "source": [
    "import pandas as pd\n",
    "df = pd.read_csv('/Users/roonmac/AmazonWebScraperDataset.csv')\n",
    "df"
   ]
  },
  {
   "cell_type": "code",
   "execution_count": 70,
   "id": "ba4f7d2f-f717-45e6-b3cc-9c271fc439ce",
   "metadata": {},
   "outputs": [],
   "source": [
    "def send_mail():\n",
    "    server = smtplib.SMTP_SSL('smtp.gmail.com' , 465)\n",
    "    server.ehlo()\n",
    "    #server.starttis()\n",
    "    server.ehlo()\n",
    "    server.login('sayandip.sharangi@gmail.com','SayandipSharangiRoon@2000')\n",
    "\n",
    "    subject = 'This iphone is below your price!'\n",
    "    body = 'hey you can buy it now'\n",
    "\n",
    "    msg = f'Subject: {subject}\\n\\n{body}'\n",
    "\n",
    "    server.sendmail(\n",
    "            'sayandip.sharangi@gmail.com',\n",
    "            'sayandip.sharangi@gmail.com',\n",
    "             msg\n",
    "    )"
   ]
  },
  {
   "cell_type": "code",
   "execution_count": null,
   "id": "adcd25e6-20c5-464c-b8ed-887be73603c2",
   "metadata": {},
   "outputs": [],
   "source": []
  }
 ],
 "metadata": {
  "kernelspec": {
   "display_name": "Python [conda env:base] *",
   "language": "python",
   "name": "conda-base-py"
  },
  "language_info": {
   "codemirror_mode": {
    "name": "ipython",
    "version": 3
   },
   "file_extension": ".py",
   "mimetype": "text/x-python",
   "name": "python",
   "nbconvert_exporter": "python",
   "pygments_lexer": "ipython3",
   "version": "3.12.7"
  }
 },
 "nbformat": 4,
 "nbformat_minor": 5
}
